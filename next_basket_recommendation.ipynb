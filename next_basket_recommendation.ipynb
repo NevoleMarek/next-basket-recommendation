{
 "cells": [
  {
   "cell_type": "markdown",
   "source": [
    "# Next basket recommendation\n",
    "\n",
    "The task of next basket recommendation is to predict a content of customers basket at their future purchase.\n",
    "\n",
    "Task has been assigned as a competition among the students who took the Algorithms of data mining course at Faculty of Information Technology @ Czech Technical University in Prague.\n",
    "\n",
    "### Scoring function\n",
    "\n",
    "The competition has been divided into 2 rounds. The difference between rounds is the used scoring function. 1st round scoring function is Jaccard similarity coefficient\n",
    "\n",
    "$J(A,B) = \\frac{ |A \\cap B| }{ |A \\cup B| }$,\n",
    "\n",
    "where A is a real basket and B is a predicted one. Final score is a mean of $J(A,B)$ over all predictions. 2nd round scoring function is Generalized Jaccard similarity coefficient over multisets\n",
    "\n",
    "$J_g(A,B) = \\frac{ \\sum_i min(a_i, b_i) }{ \\sum_i max(a_i, b_i) }$,\n",
    "\n",
    "where $A$ is a real basket and $B$ is a predicted one. $a_i$ (resp. $b_i$) is number of occurences of $i$-th in $A$ (resp. $B$). Final score is a mean of $J_g(A,B)$ over all predictions. Generalized jaccard index takes into account cases where there is multiple occurrences of same products in one basket. Therefore the scoring function is stricter.\n",
    "\n",
    "Score in 1st rnd: TBA\n",
    "\n",
    "Position among others 1st rnd: TBA\n",
    "\n",
    "Score in 2nd rnd: TBA\n",
    "\n",
    "Position among others 2nd rnd: TBA\n",
    "\n",
    "### Disclaimer\n",
    "\n",
    "Unfortunately I cannot provide the data for the problem as to avoid any legal issues. The data has been provided by a external company in collaboration with the university.\n",
    "\n",
    "\n",
    "\n",
    "Even though I cannot provide the dataset I will still try to capture my thought process and all the ideas and examples will be shown.\n"
   ],
   "metadata": {
    "collapsed": false
   }
  },
  {
   "cell_type": "markdown",
   "source": [
    "## Dataset\n",
    "\n",
    "We have been provided with 2 types of csv files.\n",
    "\n",
    "First file contains 3 columns that together create a order history. The columns are `userid`, `date` and `itemids`. Columns are self-explanatory. `userid` is an ID number of an user, `date` is a date of a purchase and `itemids` is a space separated list of product IDs. Order history files come in 2 sizes. First, the smaller one, contains 1 700 000+ rows. Second file contains total of 8 800 000+ of data.\n",
    "\n",
    "| userid \t| date       \t| itemids           \t|\n",
    "|--------\t|------------\t|-------------------\t|\n",
    "| 12345  \t| 1995-30-7  \t| 11111 22222       \t|\n",
    "| 777777 \t| 2022-1-1   \t| 12314             \t|\n",
    "| 425645 \t| 2020-12-31 \t| 45646 46511 11111 \t|\n",
    "\n",
    "Second file contains information about products. Each row represents one product. There is 25+ features about each product. Total number of products is 1426. The thoughts about feature selection for products is described later.\n",
    "\n",
    "| productid \t| features.... \t|\n",
    "|-----------\t|--------------\t|\n",
    "| 11111     \t| features     \t|\n",
    "| 22222     \t| features     \t|\n"
   ],
   "metadata": {
    "collapsed": false
   }
  },
  {
   "cell_type": "markdown",
   "source": [
    "## Data preprocessing\n",
    "\n",
    "First, I work with smaller dataset. Scaling to full dataset will be done in the end."
   ],
   "metadata": {
    "collapsed": false
   }
  },
  {
   "cell_type": "code",
   "execution_count": 39,
   "metadata": {},
   "outputs": [],
   "source": [
    "# Packages used to preprocess the data\n",
    "import pandas as pd"
   ]
  },
  {
   "cell_type": "markdown",
   "source": [
    "For feature engineering I decided to use Feature Tools."
   ],
   "metadata": {
    "collapsed": false
   }
  },
  {
   "cell_type": "code",
   "execution_count": 13,
   "outputs": [],
   "source": [
    "def preprocess_train_file(rel_path):\n",
    "    df = pd.read_csv(rel_path)\n",
    "\n",
    "    df =( df.assign(\n",
    "                date=lambda x: pd.to_datetime(x['date'], infer_datetime_format=True),\n",
    "        )\n",
    "        .rename(columns={'userid':'user_id'})\n",
    "        # Creating ids for every order\n",
    "        .set_index(['date'])\n",
    "        .sort_index()\n",
    "        .assign(\n",
    "            id=range(0,len(df))\n",
    "        )\n",
    "        #\n",
    "        .astype({'user_id':'uint32','id':'uint32'})\n",
    "        .reset_index()\n",
    "    )\n",
    "\n",
    "    df[['id','user_id','date']].to_parquet(f'{rel_path[:-4]}_orders.parquet',engine='fastparquet')\n",
    "\n",
    "    df =( df.drop(columns=['user_id','date'])\n",
    "        .assign(product_id=lambda x: x['itemids'].str.split())\n",
    "        .rename(columns={'id':'order_id'})\n",
    "        .drop(columns='itemids')\n",
    "        .explode('product_id')\n",
    "        .astype({'product_id':'uint16'})\n",
    "        .assign(\n",
    "            id=lambda x: range(0,len(x))\n",
    "        )\n",
    "        .astype({'id':'uint32'})\n",
    "    )\n",
    "    df.index = pd.RangeIndex(len(df.index))\n",
    "\n",
    "    df.to_parquet(f'{rel_path[:-4]}_orders_products.parquet',engine='fastparquet')\n"
   ],
   "metadata": {
    "collapsed": false,
    "pycharm": {
     "name": "#%%\n"
    }
   }
  },
  {
   "cell_type": "code",
   "execution_count": 16,
   "metadata": {},
   "outputs": [],
   "source": [
    "#preprocess_train_file('data/train100k.csv')\n"
   ]
  },
  {
   "cell_type": "code",
   "execution_count": 17,
   "outputs": [],
   "source": [
    "def preprocess_products_file(rel_file_path):\n",
    "    df = pd.read_csv('data/items.csv')\n",
    "    columns_to_drop = {*df.columns[(df.count() < 0.5 * len(df))].to_list()}\n",
    "    columns_to_drop |= {'declaration_of_ingredients', 'description', 'allergens', 'special_ingredients'}\n",
    "    columns_to_drop |= {*df.columns[df.columns.str.contains('_main|_sub', regex=True)].to_list()}\n",
    "\n",
    "    df = df.drop(columns=columns_to_drop)\n",
    "    df = (\n",
    "        df.astype(\n",
    "            {\n",
    "                **dict.fromkeys(df.columns[(df.nunique() < 60)].to_list(), 'category'),\n",
    "                **{'itemid':'uint16'}\n",
    "            }\n",
    "        )\n",
    "        .rename(columns={'itemid':'product_id'})\n",
    "    )\n",
    "    df.to_parquet('data/products.parquet',engine='fastparquet')"
   ],
   "metadata": {
    "collapsed": false,
    "pycharm": {
     "name": "#%%\n"
    }
   }
  },
  {
   "cell_type": "code",
   "execution_count": 18,
   "outputs": [],
   "source": [
    "#preprocess_products_file('data/items.csv')"
   ],
   "metadata": {
    "collapsed": false,
    "pycharm": {
     "name": "#%%\n"
    }
   }
  },
  {
   "cell_type": "markdown",
   "source": [
    "## Entity set"
   ],
   "metadata": {
    "collapsed": false
   }
  },
  {
   "cell_type": "code",
   "execution_count": null,
   "outputs": [],
   "source": [
    "import featuretools as ft\n",
    "import featuretools.primitives as pr"
   ],
   "metadata": {
    "collapsed": false,
    "pycharm": {
     "name": "#%%\n"
    }
   }
  },
  {
   "cell_type": "code",
   "execution_count": 19,
   "outputs": [],
   "source": [
    "orders = pd.read_parquet('data/train100k_orders.parquet')\n",
    "orders_products = pd.read_parquet('data/train100k_orders_products.parquet')\n",
    "products = pd.read_parquet('data/products.parquet')"
   ],
   "metadata": {
    "collapsed": false,
    "pycharm": {
     "name": "#%%\n"
    }
   }
  },
  {
   "cell_type": "code",
   "execution_count": 20,
   "outputs": [],
   "source": [
    "es = ft.EntitySet(id='next_basket_data')\n",
    "\n",
    "es.add_dataframe(\n",
    "    dataframe_name='orders',\n",
    "    dataframe=orders,\n",
    "    index='id',\n",
    "    time_index='date'\n",
    ")\n",
    "\n",
    "es.add_dataframe(\n",
    "    dataframe_name='orders_products',\n",
    "    dataframe=orders_products,\n",
    "    index='id'\n",
    ")\n",
    "\n",
    "es.add_dataframe(\n",
    "    dataframe_name='products',\n",
    "    dataframe=products,\n",
    "    index='product_id'\n",
    ")"
   ],
   "metadata": {
    "collapsed": false,
    "pycharm": {
     "name": "#%%\n"
    }
   }
  },
  {
   "cell_type": "code",
   "execution_count": null,
   "outputs": [],
   "source": [
    "es.add_relationship('products', 'product_id', 'orders_products', 'product_id')\n",
    "es.add_relationship('orders', 'id', 'orders_products', 'order_id')\n",
    "\n",
    "es.normalize_dataframe('orders','users','user_id')"
   ],
   "metadata": {
    "collapsed": false,
    "pycharm": {
     "name": "#%%\n"
    }
   }
  },
  {
   "cell_type": "code",
   "execution_count": 21,
   "outputs": [
    {
     "data": {
      "image/svg+xml": "<?xml version=\"1.0\" encoding=\"UTF-8\" standalone=\"no\"?>\n<!DOCTYPE svg PUBLIC \"-//W3C//DTD SVG 1.1//EN\"\n \"http://www.w3.org/Graphics/SVG/1.1/DTD/svg11.dtd\">\n<!-- Generated by graphviz version 3.0.0 (20220226.1711)\n -->\n<!-- Title: next_basket_data Pages: 1 -->\n<svg width=\"454pt\" height=\"416pt\"\n viewBox=\"0.00 0.00 453.50 416.00\" xmlns=\"http://www.w3.org/2000/svg\" xmlns:xlink=\"http://www.w3.org/1999/xlink\">\n<g id=\"graph0\" class=\"graph\" transform=\"scale(1 1) rotate(0) translate(4 412)\">\n<title>next_basket_data</title>\n<polygon fill=\"white\" stroke=\"transparent\" points=\"-4,4 -4,-412 449.5,-412 449.5,4 -4,4\"/>\n<!-- orders -->\n<g id=\"node1\" class=\"node\">\n<title>orders</title>\n<polygon fill=\"none\" stroke=\"black\" points=\"30,-158.5 30,-234.5 210,-234.5 210,-158.5 30,-158.5\"/>\n<text text-anchor=\"middle\" x=\"120\" y=\"-219.3\" font-family=\"Times New Roman,serif\" font-size=\"14.00\">orders (1711877 rows)</text>\n<polyline fill=\"none\" stroke=\"black\" points=\"30,-211.5 210,-211.5 \"/>\n<text text-anchor=\"start\" x=\"38\" y=\"-196.3\" font-family=\"Times New Roman,serif\" font-size=\"14.00\">id : Integer; index</text>\n<text text-anchor=\"start\" x=\"38\" y=\"-181.3\" font-family=\"Times New Roman,serif\" font-size=\"14.00\">user_id : Integer; foreign_key</text>\n<text text-anchor=\"start\" x=\"38\" y=\"-166.3\" font-family=\"Times New Roman,serif\" font-size=\"14.00\">date : Datetime; time_index</text>\n</g>\n<!-- users -->\n<g id=\"node4\" class=\"node\">\n<title>users</title>\n<polygon fill=\"none\" stroke=\"black\" points=\"0,-0.5 0,-61.5 240,-61.5 240,-0.5 0,-0.5\"/>\n<text text-anchor=\"middle\" x=\"120\" y=\"-46.3\" font-family=\"Times New Roman,serif\" font-size=\"14.00\">users (100000 rows)</text>\n<polyline fill=\"none\" stroke=\"black\" points=\"0,-38.5 240,-38.5 \"/>\n<text text-anchor=\"start\" x=\"8\" y=\"-23.3\" font-family=\"Times New Roman,serif\" font-size=\"14.00\">user_id : Integer; index</text>\n<text text-anchor=\"start\" x=\"8\" y=\"-8.3\" font-family=\"Times New Roman,serif\" font-size=\"14.00\">first_orders_time : Datetime; time_index</text>\n</g>\n<!-- orders&#45;&gt;users -->\n<g id=\"edge3\" class=\"edge\">\n<title>orders&#45;&gt;users</title>\n<path fill=\"none\" stroke=\"black\" d=\"M120,-158.11C120,-158.11 120,-71.72 120,-71.72\"/>\n<polygon fill=\"black\" stroke=\"black\" points=\"123.5,-71.72 120,-61.72 116.5,-71.72 123.5,-71.72\"/>\n<text text-anchor=\"middle\" x=\"99\" y=\"-118.72\" font-family=\"Times New Roman,serif\" font-size=\"14.00\">user_id</text>\n</g>\n<!-- orders_products -->\n<g id=\"node2\" class=\"node\">\n<title>orders_products</title>\n<polygon fill=\"none\" stroke=\"black\" points=\"127,-331.5 127,-407.5 329,-407.5 329,-331.5 127,-331.5\"/>\n<text text-anchor=\"middle\" x=\"228\" y=\"-392.3\" font-family=\"Times New Roman,serif\" font-size=\"14.00\">orders_products (8454526 rows)</text>\n<polyline fill=\"none\" stroke=\"black\" points=\"127,-384.5 329,-384.5 \"/>\n<text text-anchor=\"start\" x=\"135\" y=\"-369.3\" font-family=\"Times New Roman,serif\" font-size=\"14.00\">order_id : Integer; foreign_key</text>\n<text text-anchor=\"start\" x=\"135\" y=\"-354.3\" font-family=\"Times New Roman,serif\" font-size=\"14.00\">product_id : Integer; foreign_key</text>\n<text text-anchor=\"start\" x=\"135\" y=\"-339.3\" font-family=\"Times New Roman,serif\" font-size=\"14.00\">id : Integer; index</text>\n</g>\n<!-- orders_products&#45;&gt;orders -->\n<g id=\"edge2\" class=\"edge\">\n<title>orders_products&#45;&gt;orders</title>\n<path fill=\"none\" stroke=\"black\" d=\"M168.5,-331.11C168.5,-331.11 168.5,-244.79 168.5,-244.79\"/>\n<polygon fill=\"black\" stroke=\"black\" points=\"172,-244.79 168.5,-234.79 165,-244.79 172,-244.79\"/>\n<text text-anchor=\"middle\" x=\"129\" y=\"-291.75\" font-family=\"Times New Roman,serif\" font-size=\"14.00\">id &#45;&gt; order_id</text>\n</g>\n<!-- products -->\n<g id=\"node3\" class=\"node\">\n<title>products</title>\n<polygon fill=\"none\" stroke=\"black\" points=\"228.5,-98.5 228.5,-294.5 445.5,-294.5 445.5,-98.5 228.5,-98.5\"/>\n<text text-anchor=\"middle\" x=\"337\" y=\"-279.3\" font-family=\"Times New Roman,serif\" font-size=\"14.00\">products (1426 rows)</text>\n<polyline fill=\"none\" stroke=\"black\" points=\"228.5,-271.5 445.5,-271.5 \"/>\n<text text-anchor=\"start\" x=\"236.5\" y=\"-256.3\" font-family=\"Times New Roman,serif\" font-size=\"14.00\">product_id : Integer; index</text>\n<text text-anchor=\"start\" x=\"236.5\" y=\"-241.3\" font-family=\"Times New Roman,serif\" font-size=\"14.00\">product_name : Unknown</text>\n<text text-anchor=\"start\" x=\"236.5\" y=\"-226.3\" font-family=\"Times New Roman,serif\" font-size=\"14.00\">sim_product_category : Categorical</text>\n<text text-anchor=\"start\" x=\"236.5\" y=\"-211.3\" font-family=\"Times New Roman,serif\" font-size=\"14.00\">sap_product_category : Categorical</text>\n<text text-anchor=\"start\" x=\"236.5\" y=\"-196.3\" font-family=\"Times New Roman,serif\" font-size=\"14.00\">nutriscore : Categorical</text>\n<text text-anchor=\"start\" x=\"236.5\" y=\"-181.3\" font-family=\"Times New Roman,serif\" font-size=\"14.00\">country_kitchen : Categorical</text>\n<text text-anchor=\"start\" x=\"236.5\" y=\"-166.3\" font-family=\"Times New Roman,serif\" font-size=\"14.00\">main_category_1 : Categorical</text>\n<text text-anchor=\"start\" x=\"236.5\" y=\"-151.3\" font-family=\"Times New Roman,serif\" font-size=\"14.00\">sub_category_1 : Categorical</text>\n<text text-anchor=\"start\" x=\"236.5\" y=\"-136.3\" font-family=\"Times New Roman,serif\" font-size=\"14.00\">vegetarian : Categorical</text>\n<text text-anchor=\"start\" x=\"236.5\" y=\"-121.3\" font-family=\"Times New Roman,serif\" font-size=\"14.00\">type_of_meat : Categorical</text>\n<text text-anchor=\"start\" x=\"236.5\" y=\"-106.3\" font-family=\"Times New Roman,serif\" font-size=\"14.00\">gluten_lactose : Categorical</text>\n</g>\n<!-- orders_products&#45;&gt;products -->\n<g id=\"edge1\" class=\"edge\">\n<title>orders_products&#45;&gt;products</title>\n<path fill=\"none\" stroke=\"black\" d=\"M278.75,-331.11C278.75,-331.11 278.75,-304.54 278.75,-304.54\"/>\n<polygon fill=\"black\" stroke=\"black\" points=\"282.25,-304.54 278.75,-294.54 275.25,-304.54 282.25,-304.54\"/>\n<text text-anchor=\"middle\" x=\"247.25\" y=\"-306.62\" font-family=\"Times New Roman,serif\" font-size=\"14.00\">product_id</text>\n</g>\n</g>\n</svg>\n",
      "text/plain": "<graphviz.graphs.Digraph at 0x25389d1a580>"
     },
     "execution_count": 21,
     "metadata": {},
     "output_type": "execute_result"
    }
   ],
   "source": [
    "es.plot()"
   ],
   "metadata": {
    "collapsed": false,
    "pycharm": {
     "name": "#%%\n"
    }
   }
  },
  {
   "cell_type": "code",
   "execution_count": null,
   "outputs": [],
   "source": [
    "es.add_interesting_values(dataframe_name=\"products\",\n",
    "                          values={\n",
    "                              'vegetarian': ['t', 'f'],\n",
    "                              'sim_product_category': ['Fish','Ready-made','Snacks', 'Non-food','Vegetables','Potato products','Poultry','Fruit','Other frozen food','Meat','Non-frozen food','Bakery','Ice-cream','Milk products','Desserts']\n",
    "                          })"
   ],
   "metadata": {
    "collapsed": false,
    "pycharm": {
     "name": "#%%\n"
    }
   }
  },
  {
   "cell_type": "code",
   "execution_count": 22,
   "outputs": [
    {
     "data": {
      "text/plain": "         user_id       time\n0        4679611 2019-01-02\n1        4469703 2019-01-02\n2        2718339 2019-01-02\n3        5951243 2019-01-02\n4        9889402 2019-01-02\n...          ...        ...\n1711872  4631009 2020-12-30\n1711873  8480443 2020-12-30\n1711874  8381298 2020-12-30\n1711875  5086174 2020-12-30\n1711876  6802440 2020-12-30\n\n[1711877 rows x 2 columns]",
      "text/html": "<div>\n<style scoped>\n    .dataframe tbody tr th:only-of-type {\n        vertical-align: middle;\n    }\n\n    .dataframe tbody tr th {\n        vertical-align: top;\n    }\n\n    .dataframe thead th {\n        text-align: right;\n    }\n</style>\n<table border=\"1\" class=\"dataframe\">\n  <thead>\n    <tr style=\"text-align: right;\">\n      <th></th>\n      <th>user_id</th>\n      <th>time</th>\n    </tr>\n  </thead>\n  <tbody>\n    <tr>\n      <th>0</th>\n      <td>4679611</td>\n      <td>2019-01-02</td>\n    </tr>\n    <tr>\n      <th>1</th>\n      <td>4469703</td>\n      <td>2019-01-02</td>\n    </tr>\n    <tr>\n      <th>2</th>\n      <td>2718339</td>\n      <td>2019-01-02</td>\n    </tr>\n    <tr>\n      <th>3</th>\n      <td>5951243</td>\n      <td>2019-01-02</td>\n    </tr>\n    <tr>\n      <th>4</th>\n      <td>9889402</td>\n      <td>2019-01-02</td>\n    </tr>\n    <tr>\n      <th>...</th>\n      <td>...</td>\n      <td>...</td>\n    </tr>\n    <tr>\n      <th>1711872</th>\n      <td>4631009</td>\n      <td>2020-12-30</td>\n    </tr>\n    <tr>\n      <th>1711873</th>\n      <td>8480443</td>\n      <td>2020-12-30</td>\n    </tr>\n    <tr>\n      <th>1711874</th>\n      <td>8381298</td>\n      <td>2020-12-30</td>\n    </tr>\n    <tr>\n      <th>1711875</th>\n      <td>5086174</td>\n      <td>2020-12-30</td>\n    </tr>\n    <tr>\n      <th>1711876</th>\n      <td>6802440</td>\n      <td>2020-12-30</td>\n    </tr>\n  </tbody>\n</table>\n<p>1711877 rows × 2 columns</p>\n</div>"
     },
     "execution_count": 22,
     "metadata": {},
     "output_type": "execute_result"
    }
   ],
   "source": [
    "cutoff = orders[['user_id','date']].rename(columns={'date':'time'})\n",
    "cutoff"
   ],
   "metadata": {
    "collapsed": false,
    "pycharm": {
     "name": "#%%\n"
    }
   }
  },
  {
   "cell_type": "code",
   "execution_count": 37,
   "outputs": [
    {
     "name": "stdout",
     "output_type": "stream",
     "text": [
      "Built 302 features\n"
     ]
    }
   ],
   "source": [
    "features = ft.dfs(entityset=es,\n",
    "                  target_dataframe_name='users',\n",
    "                  agg_primitives=[\n",
    "                      'sum', 'max', 'min', 'mean', 'count',\n",
    "                      'num_unique', 'mode', pr.AvgTimeBetween(unit='days'),\n",
    "                  ],\n",
    "                  trans_primitives=[\n",
    "                      'day','month','weekday','cum_mean','year'\n",
    "                  ],\n",
    "                  cutoff_time=cutoff,\n",
    "                  max_depth=4,\n",
    "                  n_jobs=1,\n",
    "                  ignore_columns={'users':['first_orders_time']},\n",
    "                  verbose=True,\n",
    "                  features_only=True,\n",
    "                  include_cutoff_time=False)"
   ],
   "metadata": {
    "collapsed": false,
    "pycharm": {
     "name": "#%%\n"
    }
   }
  },
  {
   "cell_type": "markdown",
   "source": [
    "## Machine learning\n",
    "\n",
    "Work in progress"
   ],
   "metadata": {
    "collapsed": false,
    "pycharm": {
     "name": "#%% md\n"
    }
   }
  },
  {
   "cell_type": "markdown",
   "source": [
    "https://scikit-learn.org/stable/modules/multiclass.html"
   ],
   "metadata": {
    "collapsed": false,
    "pycharm": {
     "name": "#%% md\n"
    }
   }
  },
  {
   "cell_type": "markdown",
   "source": [
    "## Scaling to larger dataset"
   ],
   "metadata": {
    "collapsed": false
   }
  }
 ],
 "metadata": {
  "interpreter": {
   "hash": "ac414b804d36e4c085e24a0481bd4396ee16fd0a7c5871f3d68efff1fa8b72ad"
  },
  "kernelspec": {
   "display_name": "Python 3.8.8 ('venv': venv)",
   "language": "python",
   "name": "python3"
  },
  "language_info": {
   "codemirror_mode": {
    "name": "ipython",
    "version": 3
   },
   "file_extension": ".py",
   "mimetype": "text/x-python",
   "name": "python",
   "nbconvert_exporter": "python",
   "pygments_lexer": "ipython3",
   "version": "3.8.8"
  },
  "orig_nbformat": 4
 },
 "nbformat": 4,
 "nbformat_minor": 2
}