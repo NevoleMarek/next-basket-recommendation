{
 "cells": [
  {
   "cell_type": "markdown",
   "metadata": {},
   "source": []
  },
  {
   "cell_type": "code",
   "execution_count": 96,
   "metadata": {},
   "outputs": [],
   "source": [
    "import numpy as np\n",
    "import pandas as pd"
   ]
  },
  {
   "cell_type": "code",
   "execution_count": 97,
   "metadata": {},
   "outputs": [],
   "source": [
    "df = pd.read_csv('data/train100k.csv')"
   ]
  },
  {
   "cell_type": "code",
   "execution_count": 98,
   "metadata": {},
   "outputs": [],
   "source": [
    "def to_quarters(df):\n",
    "    condlist = [\n",
    "        ((1 <= df['month'].values) & (df['month'].values <= 3)),\n",
    "        ((4 <= df['month'].values) & (df['month'].values <= 6)),\n",
    "        ((7 <= df['month'].values) & (df['month'].values <= 9)),\n",
    "        ((10 <= df['month'].values) & (df['month'].values <= 12))\n",
    "    ]\n",
    "    choicelist = [\n",
    "        'Q1',\n",
    "        'Q2',\n",
    "        'Q3',\n",
    "        'Q4'\n",
    "    ]\n",
    "    return np.select(condlist,choicelist)"
   ]
  },
  {
   "cell_type": "code",
   "execution_count": 99,
   "metadata": {},
   "outputs": [],
   "source": [
    "df =(df.assign(\n",
    "                date=lambda x: pd.to_datetime(x['date'], infer_datetime_format=True),\n",
    "                day=lambda x: x['date'].dt.day,\n",
    "                month=lambda x: x['date'].dt.month,\n",
    "                year=lambda x: x['date'].dt.year,\n",
    "                quarter=to_quarters,\n",
    "                basket_size=lambda x: x['itemids'].str.split().str.len()\n",
    "        )\n",
    "        .drop(columns='itemids')\n",
    "        .astype({\n",
    "                'userid':'int32',\n",
    "                'basket_size':'int16',\n",
    "                'day':'int8',\n",
    "                'month':'int8',\n",
    "                'year':'int16',\n",
    "                'quarter':'category'\n",
    "        })\n",
    ")"
   ]
  },
  {
   "cell_type": "code",
   "execution_count": 100,
   "metadata": {},
   "outputs": [
    {
     "data": {
      "text/html": [
       "<div>\n",
       "<style scoped>\n",
       "    .dataframe tbody tr th:only-of-type {\n",
       "        vertical-align: middle;\n",
       "    }\n",
       "\n",
       "    .dataframe tbody tr th {\n",
       "        vertical-align: top;\n",
       "    }\n",
       "\n",
       "    .dataframe thead th {\n",
       "        text-align: right;\n",
       "    }\n",
       "</style>\n",
       "<table border=\"1\" class=\"dataframe\">\n",
       "  <thead>\n",
       "    <tr style=\"text-align: right;\">\n",
       "      <th></th>\n",
       "      <th>userid</th>\n",
       "      <th>date</th>\n",
       "      <th>day</th>\n",
       "      <th>month</th>\n",
       "      <th>year</th>\n",
       "      <th>quarter</th>\n",
       "      <th>basket_size</th>\n",
       "    </tr>\n",
       "  </thead>\n",
       "  <tbody>\n",
       "    <tr>\n",
       "      <th>0</th>\n",
       "      <td>7226385</td>\n",
       "      <td>2019-01-22</td>\n",
       "      <td>22</td>\n",
       "      <td>1</td>\n",
       "      <td>2019</td>\n",
       "      <td>Q1</td>\n",
       "      <td>4</td>\n",
       "    </tr>\n",
       "    <tr>\n",
       "      <th>1</th>\n",
       "      <td>7226385</td>\n",
       "      <td>2019-02-12</td>\n",
       "      <td>12</td>\n",
       "      <td>2</td>\n",
       "      <td>2019</td>\n",
       "      <td>Q1</td>\n",
       "      <td>3</td>\n",
       "    </tr>\n",
       "    <tr>\n",
       "      <th>2</th>\n",
       "      <td>7226385</td>\n",
       "      <td>2019-03-11</td>\n",
       "      <td>11</td>\n",
       "      <td>3</td>\n",
       "      <td>2019</td>\n",
       "      <td>Q1</td>\n",
       "      <td>4</td>\n",
       "    </tr>\n",
       "    <tr>\n",
       "      <th>3</th>\n",
       "      <td>7226385</td>\n",
       "      <td>2019-04-03</td>\n",
       "      <td>3</td>\n",
       "      <td>4</td>\n",
       "      <td>2019</td>\n",
       "      <td>Q2</td>\n",
       "      <td>5</td>\n",
       "    </tr>\n",
       "    <tr>\n",
       "      <th>4</th>\n",
       "      <td>7226385</td>\n",
       "      <td>2019-05-23</td>\n",
       "      <td>23</td>\n",
       "      <td>5</td>\n",
       "      <td>2019</td>\n",
       "      <td>Q2</td>\n",
       "      <td>4</td>\n",
       "    </tr>\n",
       "    <tr>\n",
       "      <th>...</th>\n",
       "      <td>...</td>\n",
       "      <td>...</td>\n",
       "      <td>...</td>\n",
       "      <td>...</td>\n",
       "      <td>...</td>\n",
       "      <td>...</td>\n",
       "      <td>...</td>\n",
       "    </tr>\n",
       "    <tr>\n",
       "      <th>1711872</th>\n",
       "      <td>1542695</td>\n",
       "      <td>2019-06-19</td>\n",
       "      <td>19</td>\n",
       "      <td>6</td>\n",
       "      <td>2019</td>\n",
       "      <td>Q2</td>\n",
       "      <td>6</td>\n",
       "    </tr>\n",
       "    <tr>\n",
       "      <th>1711873</th>\n",
       "      <td>1542695</td>\n",
       "      <td>2019-07-15</td>\n",
       "      <td>15</td>\n",
       "      <td>7</td>\n",
       "      <td>2019</td>\n",
       "      <td>Q3</td>\n",
       "      <td>7</td>\n",
       "    </tr>\n",
       "    <tr>\n",
       "      <th>1711874</th>\n",
       "      <td>1542695</td>\n",
       "      <td>2019-10-04</td>\n",
       "      <td>4</td>\n",
       "      <td>10</td>\n",
       "      <td>2019</td>\n",
       "      <td>Q4</td>\n",
       "      <td>4</td>\n",
       "    </tr>\n",
       "    <tr>\n",
       "      <th>1711875</th>\n",
       "      <td>1542695</td>\n",
       "      <td>2019-11-19</td>\n",
       "      <td>19</td>\n",
       "      <td>11</td>\n",
       "      <td>2019</td>\n",
       "      <td>Q4</td>\n",
       "      <td>5</td>\n",
       "    </tr>\n",
       "    <tr>\n",
       "      <th>1711876</th>\n",
       "      <td>1542695</td>\n",
       "      <td>2020-03-02</td>\n",
       "      <td>2</td>\n",
       "      <td>3</td>\n",
       "      <td>2020</td>\n",
       "      <td>Q1</td>\n",
       "      <td>4</td>\n",
       "    </tr>\n",
       "  </tbody>\n",
       "</table>\n",
       "<p>1711877 rows × 7 columns</p>\n",
       "</div>"
      ],
      "text/plain": [
       "          userid       date  day month  year quarter  basket_size\n",
       "0        7226385 2019-01-22   22     1  2019      Q1            4\n",
       "1        7226385 2019-02-12   12     2  2019      Q1            3\n",
       "2        7226385 2019-03-11   11     3  2019      Q1            4\n",
       "3        7226385 2019-04-03    3     4  2019      Q2            5\n",
       "4        7226385 2019-05-23   23     5  2019      Q2            4\n",
       "...          ...        ...  ...   ...   ...     ...          ...\n",
       "1711872  1542695 2019-06-19   19     6  2019      Q2            6\n",
       "1711873  1542695 2019-07-15   15     7  2019      Q3            7\n",
       "1711874  1542695 2019-10-04    4    10  2019      Q4            4\n",
       "1711875  1542695 2019-11-19   19    11  2019      Q4            5\n",
       "1711876  1542695 2020-03-02    2     3  2020      Q1            4\n",
       "\n",
       "[1711877 rows x 7 columns]"
      ]
     },
     "execution_count": 100,
     "metadata": {},
     "output_type": "execute_result"
    }
   ],
   "source": [
    "df"
   ]
  },
  {
   "cell_type": "code",
   "execution_count": 101,
   "metadata": {},
   "outputs": [
    {
     "name": "stdout",
     "output_type": "stream",
     "text": [
      "30814842 bytes\n"
     ]
    },
    {
     "data": {
      "text/plain": [
       "Index               128\n",
       "userid          6847508\n",
       "date           13695016\n",
       "day             1711877\n",
       "month           1712273\n",
       "year            1712001\n",
       "quarter         1712285\n",
       "basket_size     3423754\n",
       "dtype: int64"
      ]
     },
     "execution_count": 101,
     "metadata": {},
     "output_type": "execute_result"
    }
   ],
   "source": [
    "print(sum(df.memory_usage(deep=True)), 'bytes')\n",
    "df.memory_usage(deep=True)"
   ]
  },
  {
   "cell_type": "code",
   "execution_count": 102,
   "metadata": {},
   "outputs": [
    {
     "name": "stdout",
     "output_type": "stream",
     "text": [
      "(1198313, 4) (513564, 4)\n",
      "(1198313,) (513564,)\n"
     ]
    }
   ],
   "source": [
    "from sklearn.model_selection import train_test_split\n",
    "\n",
    "dataset = ['userid','day','month','year','quarter']\n",
    "label = ['basket_size']\n",
    "\n",
    "X = df[dataset]\n",
    "y = df[label]\n",
    "y = np.ravel(y)\n",
    "\n",
    "\n",
    "X_train, X_test, y_train, y_test = train_test_split(X, y, test_size=0.3, random_state=42)\n",
    "\n",
    "\n",
    "print(X_train.shape, X_test.shape)\n",
    "print(y_train.shape, y_test.shape)"
   ]
  },
  {
   "cell_type": "code",
   "execution_count": null,
   "metadata": {},
   "outputs": [],
   "source": [
    "from flaml import AutoML\n",
    "\n",
    "settings = {\n",
    "    #'max_iter':2,\n",
    "    'time_budget':1200,\n",
    "    'task':'regression',\n",
    "    'estimator_list':['lgbm','catboost','rf'],\n",
    "    'metric':'r2'\n",
    "}\n",
    "\n",
    "automl = AutoML()\n",
    "automl.fit(X_train, y_train, **settings)"
   ]
  },
  {
   "cell_type": "code",
   "execution_count": null,
   "metadata": {},
   "outputs": [
    {
     "name": "stdout",
     "output_type": "stream",
     "text": [
      "Predicted labels [4.86432688 5.96904438 4.60511815 ... 4.43818137 5.8993146  5.16513062]\n",
      "True labels [ 5  4  2 ...  3 11  8]\n",
      "r2 = 0.012534598354599913\n",
      "mse = 13.11121822946392\n",
      "mae = 2.6355840397290184\n",
      "rmse = 3.620941621935366\n"
     ]
    }
   ],
   "source": [
    "y_pred = automl.predict(X_test)\n",
    "print('Predicted labels', y_pred)\n",
    "print('True labels', y_test)\n",
    "\n",
    "from flaml.ml import sklearn_metric_loss_score\n",
    "print('r2', '=', 1 - sklearn_metric_loss_score('r2', y_pred, y_test))\n",
    "print('mse', '=', sklearn_metric_loss_score('mse', y_pred, y_test))\n",
    "print('mae', '=', sklearn_metric_loss_score('mae', y_pred, y_test))\n",
    "print('rmse', '=', sklearn_metric_loss_score('rmse', y_pred, y_test))"
   ]
  }
 ],
 "metadata": {
  "interpreter": {
   "hash": "ac414b804d36e4c085e24a0481bd4396ee16fd0a7c5871f3d68efff1fa8b72ad"
  },
  "kernelspec": {
   "display_name": "Python 3.8.8 ('venv': venv)",
   "language": "python",
   "name": "python3"
  },
  "language_info": {
   "codemirror_mode": {
    "name": "ipython",
    "version": 3
   },
   "file_extension": ".py",
   "mimetype": "text/x-python",
   "name": "python",
   "nbconvert_exporter": "python",
   "pygments_lexer": "ipython3",
   "version": "3.8.8"
  },
  "orig_nbformat": 4
 },
 "nbformat": 4,
 "nbformat_minor": 2
}
